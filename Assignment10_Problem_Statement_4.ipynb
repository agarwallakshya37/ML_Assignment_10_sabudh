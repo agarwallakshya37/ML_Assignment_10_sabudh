{
  "nbformat": 4,
  "nbformat_minor": 0,
  "metadata": {
    "colab": {
      "name": "Assignment10_Problem_Statement_4.ipynb",
      "provenance": []
    },
    "kernelspec": {
      "name": "python3",
      "display_name": "Python 3"
    }
  },
  "cells": [
    {
      "cell_type": "markdown",
      "metadata": {
        "id": "EbOttpKQUZKX",
        "colab_type": "text"
      },
      "source": [
        "**Problem Statement 4 :** \n",
        "\n",
        "Change code into an Object Oriented Project reusing part of the code where possible\n",
        "\n",
        "Object oriented Approch of all the parts of question 3\n"
      ]
    },
    {
      "cell_type": "code",
      "metadata": {
        "id": "bsi_YjfzHM7E",
        "colab_type": "code",
        "colab": {
          "resources": {
            "http://localhost:8080/nbextensions/google.colab/files.js": {
              "data": "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",
              "ok": true,
              "headers": [
                [
                  "content-type",
                  "application/javascript"
                ]
              ],
              "status": 200,
              "status_text": ""
            }
          },
          "base_uri": "https://localhost:8080/",
          "height": 145
        },
        "outputId": "98ba18e5-6356-484a-e598-4b7f24519f75"
      },
      "source": [
        "from google.colab import files\n",
        "import random\n",
        "import numpy as np\n",
        "import pandas as pd\n",
        "from scipy.stats import norm\n",
        "import matplotlib.pyplot as plt\n",
        "from sklearn import datasets\n",
        "file=files.upload()"
      ],
      "execution_count": 1,
      "outputs": [
        {
          "output_type": "display_data",
          "data": {
            "text/html": [
              "\n",
              "     <input type=\"file\" id=\"files-112bc99c-279c-4bd7-9e8a-dbdbb18d87ae\" name=\"files[]\" multiple disabled />\n",
              "     <output id=\"result-112bc99c-279c-4bd7-9e8a-dbdbb18d87ae\">\n",
              "      Upload widget is only available when the cell has been executed in the\n",
              "      current browser session. Please rerun this cell to enable.\n",
              "      </output>\n",
              "      <script src=\"/nbextensions/google.colab/files.js\"></script> "
            ],
            "text/plain": [
              "<IPython.core.display.HTML object>"
            ]
          },
          "metadata": {
            "tags": []
          }
        },
        {
          "output_type": "stream",
          "text": [
            "Saving Logistic_Regression_Dataset.csv to Logistic_Regression_Dataset.csv\n",
            "Saving Linear_Regression_Dataset.csv to Linear_Regression_Dataset.csv\n",
            "Saving Data_Set_K_Means.csv to Data_Set_K_Means.csv\n"
          ],
          "name": "stdout"
        }
      ]
    },
    {
      "cell_type": "code",
      "metadata": {
        "id": "3Y3GmbPZT3jQ",
        "colab_type": "code",
        "colab": {}
      },
      "source": [
        "class​ ​Regression​:\n",
        "    ​def​ ​_init_​(​self​, ​epochs​, ​lr​, ​l1_ratio​=​None​):\n",
        "        ​self​.epochs ​=​ epochs\n",
        "        ​self​.learning_rate ​=​ lr\n",
        "        ​self​.costings ​=​ []\n",
        "        ​self​.predictions ​=​ []\n",
        "        ​self​.l1_ratio ​=​ l1_ratio\n",
        "\n",
        "    ​@​staticmethod​\n",
        "    ​def​ ​Mean_Squared_Error​(​actual​, ​predicted​):\n",
        "        error ​=​ actual ​-​ predicted\n",
        "        ​return​ ​1​ ​/​ (​len​(actual)) ​*​ np.dot(error.T, error)\n",
        "\n",
        "    ​@​staticmethod​\n",
        "    ​def​ ​accuracy_metric​(​actual​, ​predicted​):\n",
        "        correct ​=​ ​0​\n",
        "        ​for​ i ​in​ ​range​(​len​(actual)):\n",
        "            ​if​ actual[i] ​==​ predicted[i]:\n",
        "                correct ​+=​ ​1​\n",
        "        ​return​ correct ​/​ ​len​(actual) ​*​ ​100.0​\n",
        "\n",
        "    ​def​ ​gradient_descent​(​self​, ​x​, ​y​, ​weights​, ​switch​=​0​):\n",
        "        ​for​ _ ​in​ ​range​(​self​.epochs):\n",
        "            prediction ​=​ np.dot(x, weights)\n",
        "            ​if​ switch ​==​ ​0​:\n",
        "                ​pass​\n",
        "            ​else​:\n",
        "                ​#​ print(\"Log\")​\n",
        "                prediction ​=​ Regression.sigmoid_activation(prediction)\n",
        "            error ​=​ prediction ​-​ y\n",
        "            ​if​ switch ​==​ ​0​:\n",
        "                ​#​ print(\"Linear\")​\n",
        "                cost ​=​ ​1​ ​/​ (​len​(x)) ​*​ np.dot(error.T, error)\n",
        "            ​else​:\n",
        "                ​#​ print(\"Log-1\")​\n",
        "                cost ​=​ Regression.log_loss(y, prediction)\n",
        "            ​self​.costings.append(cost)\n",
        "            ​if​ ​self​.l1_ratio ​is​ ​None​:\n",
        "                weights ​=​ weights ​-​ (​self​.learning_rate ​​ (​1​ ​/​ ​len​(x)) ​​ np.dot(x.T, error))\n",
        "            ​else​:\n",
        "                weights ​=​ weights ​-​ (​self​.learning_rate ​​ (x.T.dot(error) ​+​ ​self​.l1_ratio ​​ np.sign(weights) ​+​ (​1​ ​-​ ​self​.l1_ratio) ​​ ​2​ ​​ weights) ​*​ ​1​ ​/​ ​len​(x))\n",
        "            ​#​ print(weights)​\n",
        "        ​return​ weights\n",
        "\n",
        "    ​@​staticmethod​\n",
        "    ​def​ ​log_loss​(​y​, ​prediction​):\n",
        "        cost ​=​ (​-​y) ​*​ np.log(prediction) ​-​ \\\n",
        "               (​1​ ​-​ y) ​*​ np.log(​1​ ​-​ prediction)\n",
        "        cost ​=​ ​sum​(cost) ​/​ ​len​(y)\n",
        "        ​return​ cost\n",
        "\n",
        "    ​@​staticmethod​\n",
        "    ​def​ ​sigmoid_activation​(​prediction​):\n",
        "        ​return​ ​1​ ​/​ (​1​ ​+​ np.exp(​-​prediction))\n",
        "\n",
        "    ​def​ ​cost_plot​(​self​):\n",
        "        plt.title(​'​Cost Function​'​)\n",
        "        plt.xlabel(​'​No. of iterations​'​)\n",
        "        plt.ylabel(​'​Cost​'​)\n",
        "        plt.plot(​self​.costings)\n",
        "        plt.show()\n",
        "\n",
        "    ​def​ ​prediction​(​self​, ​weights​, ​x​):\n",
        "        ​print​(​len​(x))\n",
        "        ​for​ i ​in​ x:\n",
        "            s ​=​ ​0​\n",
        "            ​for​ j ​in​ ​range​(​0​, ​len​(i)):\n",
        "                s ​=​ s ​+​ (weights[j] ​*​ i[j])\n",
        "            ​self​.predictions.append(s)\n",
        "        ​return​ ​self​.predictions\n",
        "\n",
        "\n",
        "​class​ ​Linear_Regression​(​Regression​):\n",
        "    ​def​ ​_init_​(​self​, ​epochs​, ​lr​, ​x​, ​y​, ​l1_ratio​=​None​):\n",
        "        ​super​().​_init_​(​epochs​=​epochs, ​lr​=​lr, ​l1_ratio​=​l1_ratio)\n",
        "        ​self​.x ​=​ x\n",
        "        ​self​.y ​=​ y\n",
        "        np.random.seed(​1​)\n",
        "        ​self​.weights ​=​ np.random.randn(​len​(x[​0​] ​+​ ​1​))\n",
        "\n",
        "    ​def​ ​fit​(​self​):\n",
        "        ​self​.weights ​=​ ​super​().gradient_descent(​x​=​self​.x, ​y​=​self​.y, ​weights​=​self​.weights)\n",
        "\n",
        "    ​def​ ​predict​(​self​, ​x_test​):\n",
        "        ​self​.weights ​=​ ​list​(​self​.weights)\n",
        "        c ​=​ ​self​.weights.pop(​0​)\n",
        "        ​self​.predictions ​=​ ​super​().prediction(​weights​=​self​.weights, ​x​=​x_test)\n",
        "        ​self​.predictions ​+=​ c\n",
        "        ​return​ ​self​.predictions\n",
        "\n",
        "\n",
        "​class​ ​Logistic_Regression​(​Regression​):\n",
        "    ​def​ ​_init_​(​self​, ​epochs​, ​lr​, ​x​, ​y​, ​l1_ratio​=​None​):\n",
        "        ​super​().​_init_​(​epochs​=​epochs, ​lr​=​lr, ​l1_ratio​=​l1_ratio)\n",
        "        ​self​.x ​=​ x\n",
        "        ​self​.y ​=​ y\n",
        "        np.random.seed(​1​)\n",
        "        ​self​.weights ​=​ np.zeros(​len​(x[​0​]))\n",
        "\n",
        "    ​def​ ​fit​(​self​):\n",
        "        ​self​.weights ​=​ ​super​().gradient_descent(​x​=​self​.x, ​y​=​self​.y, ​weights​=​self​.weights, ​switch​=​1​)\n",
        "\n",
        "    ​def​ ​predict​(​self​, ​x_test​):\n",
        "        ​self​.predictions ​=​ ​super​().prediction(​weights​=​self​.weights, ​x​=​x_test)\n",
        "        ​self​.predictions ​=​ [​round​(Regression.sigmoid_activation(value)) ​for​ value ​in​ ​self​.predictions]\n",
        "        ​return​ ​self​.predictions\n",
        "\n"
      ],
      "execution_count": 0,
      "outputs": []
    },
    {
      "cell_type": "code",
      "metadata": {
        "id": "oS0H17WnTi1B",
        "colab_type": "code",
        "colab": {}
      },
      "source": [
        "​#​ Linear Regression Using Gradient Descent​\n",
        "# ​print​(​\"​Linear Regression Using Gradient Descent​\"​)\n",
        "\n",
        "data ​=​ pd.read_csv(​\"​​Linear_Regression_Dataset.csv​\"​)\n",
        "v ​=​ ​len​(data.columns)\n",
        "X ​=​ data.iloc[:, ​1​:v ​-​ ​1​].values\n",
        "Y ​=​ data.iloc[:, v ​-​ ​1​].values\n",
        "\n",
        "​#​ Splitting Data_Sets​\n",
        "val ​=​ ​len​(X) ​//​ ​3​\n",
        "X_train ​=​ X[val:]\n",
        "X_train ​=​ np.c_[np.ones(X_train.shape[​0​]), X_train]\n",
        "X_test ​=​ X[: val]\n",
        "Y_train ​=​ Y[val:]\n",
        "Y_test ​=​ Y[: val]\n",
        "\n",
        "model ​=​ Linear_Regression(​1000​, ​0.021​, X_train, Y_train)\n",
        "model.fit()\n",
        "model.cost_plot()\n",
        "predictions ​=​ model.predict(X_test)\n",
        "​print​(​\"​Predictions​\"​)\n",
        "​print​(predictions)\n",
        "​print​(​\"​Original Values​\"​)\n",
        "​print​(Y_test)\n",
        "​print​(​\"​Means Squared Error : ​\"​, Regression.Mean_Squared_Error(Y_test, predictions))\n"
      ],
      "execution_count": 0,
      "outputs": []
    },
    {
      "cell_type": "code",
      "metadata": {
        "id": "5Eg05gu5Tfsv",
        "colab_type": "code",
        "colab": {}
      },
      "source": [
        "​#​ Logistic Regression Using Gradient Descent​\n",
        "# ​print​(​\"​Linear Regression Using Gradient Descent​\"​)\n",
        "data ​=​ pd.read_csv(​\"Logistic_Regression_Dataset.csv​\"​)\n",
        "v ​=​ ​len​(data.columns)\n",
        "X ​=​ data.iloc[:, ​1​:v ​-​ ​1​].values\n",
        "Y ​=​ data.iloc[:, v ​-​ ​1​].values\n",
        "\n",
        "​#​ Splitting Data_Sets​\n",
        "val ​=​ ​len​(X) ​//​ ​3​\n",
        "X_train ​=​ X[val:]\n",
        "X_test ​=​ X[: val]\n",
        "Y_train ​=​ Y[val:]\n",
        "Y_test ​=​ Y[: val]\n",
        "\n",
        "model ​=​ Logistic_Regression(​1000​, ​0.021​, X_train, Y_train)\n",
        "model.fit()\n",
        "model.cost_plot()\n",
        "predictions ​=​ model.predict(X_test)\n",
        "​print​(​\"​Predictions​\"​)\n",
        "​print​(predictions)\n",
        "​print​(​\"​Original Values​\"​)\n",
        "​print​(Y_test)\n",
        "​print​(​\"​Accuracy Score : ​\"​, Regression.accuracy_metric(Y_test, predictions))"
      ],
      "execution_count": 0,
      "outputs": []
    },
    {
      "cell_type": "code",
      "metadata": {
        "id": "ZCxSyi2SXLo0",
        "colab_type": "code",
        "colab": {}
      },
      "source": [
        "​#​ Linear Regression With L1_L2_Regularization​\n",
        "# ​print​(​\"​Linear Regression With L1 And L2 Regularization​\"​)\n",
        "data ​=​ pd.read_csv(​\"​​Linear_Regression_Dataset.csv​\"​)\n",
        "v ​=​ ​len​(data.columns)\n",
        "X ​=​ data.iloc[:, ​1​:v ​-​ ​1​].values\n",
        "Y ​=​ data.iloc[:, v ​-​ ​1​].values\n",
        "\n",
        "​#​ Splitting Data_Sets​\n",
        "val ​=​ ​len​(X) ​//​ ​3​\n",
        "X_train ​=​ X[val:]\n",
        "X_train ​=​ np.c_[np.ones(X_train.shape[​0​]), X_train]\n",
        "X_test ​=​ X[: val]\n",
        "Y_train ​=​ Y[val:]\n",
        "Y_test ​=​ Y[: val]\n",
        "\n",
        "model ​=​ Linear_Regression(​1000​, ​0.021​, X_train, Y_train, ​l1_ratio​=​0.5​)\n",
        "model.fit()\n",
        "model.cost_plot()\n",
        "predictions ​=​ model.predict(X_test)\n",
        "​print​(​\"​Predictions​\"​)\n",
        "​print​(predictions)\n",
        "​print​(​\"​Original Values​\"​)\n",
        "​print​(Y_test)\n",
        "​print​(​\"​Means Squared Error : ​\"​, Regression.Mean_Squared_Error(Y_test, predictions))\n"
      ],
      "execution_count": 0,
      "outputs": []
    },
    {
      "cell_type": "code",
      "metadata": {
        "id": "AGVcnxBcXPiw",
        "colab_type": "code",
        "colab": {}
      },
      "source": [
        "​#​ # Logistic Regression With L1_L2_Regularization​\n",
        "data ​=​ pd.read_csv(​\"​Logistic_Regression_Dataset.csv​\"​)\n",
        "# ​print​(​\"​Logistic Regression With L1 And L2 Regularization​\"​)\n",
        "v ​=​ ​len​(data.columns)\n",
        "X ​=​ data.iloc[:, ​1​:v ​-​ ​1​].values\n",
        "Y ​=​ data.iloc[:, v ​-​ ​1​].values\n",
        "\n",
        "​#​ Splitting Data_Sets​\n",
        "val ​=​ ​len​(X) ​//​ ​3​\n",
        "X_train ​=​ X[val:]\n",
        "X_test ​=​ X[: val]\n",
        "Y_train ​=​ Y[val:]\n",
        "Y_test ​=​ Y[: val]\n",
        "\n",
        "model ​=​ Logistic_Regression(​1000​, ​0.021​, X_train, Y_train, ​0.5​)\n",
        "model.fit()\n",
        "model.cost_plot()\n",
        "predictions ​=​ model.predict(X_test)\n",
        "​print​(​\"​Predictions​\"​)\n",
        "​print​(predictions)\n",
        "​print​(​\"​Original Values​\"​)\n",
        "​print​(Y_test)\n",
        "​print​(​\"​Accuracy Score : ​\"​, Regression.accuracy_metric(Y_test, predictions))"
      ],
      "execution_count": 0,
      "outputs": []
    }
  ]
}