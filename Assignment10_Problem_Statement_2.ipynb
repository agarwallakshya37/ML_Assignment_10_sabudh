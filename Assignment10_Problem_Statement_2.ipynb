{
  "nbformat": 4,
  "nbformat_minor": 0,
  "metadata": {
    "colab": {
      "name": "Assignment10_Problem_Statement_2.ipynb",
      "provenance": []
    },
    "kernelspec": {
      "name": "python3",
      "display_name": "Python 3"
    }
  },
  "cells": [
    {
      "cell_type": "markdown",
      "metadata": {
        "id": "H96oDvqrGXPI",
        "colab_type": "text"
      },
      "source": [
        "**Problem Statement 2 :**\n",
        "\n",
        "Generate random data for for Multiple Linear Regression, Logistic Regression, K-mean Clustering\n"
      ]
    },
    {
      "cell_type": "code",
      "metadata": {
        "id": "a5uFP4HlESJM",
        "colab_type": "code",
        "colab": {
          "base_uri": "https://localhost:8080/",
          "height": 126
        },
        "outputId": "6fbe8acd-59ce-4173-9190-046b493b3dc2"
      },
      "source": [
        "# Random Generation for Linear Regression\n",
        "import random\n",
        "import numpy as np\n",
        "import pandas as pd\n",
        "from scipy.stats import norm\n",
        "import matplotlib.pyplot as plt\n",
        "from sklearn import datasets\n",
        "def Data_Generation_For_Linear_Regression(no_of_rows, no_of_attributes):\n",
        "    error = norm.rvs(0, 0.25, no_of_rows)\n",
        "    # print(error)\n",
        "    features = []\n",
        "    for v in range(no_of_attributes):\n",
        "        x = norm.rvs(0, 1, no_of_rows)\n",
        "        x = x[:, np.newaxis]\n",
        "        if v == 0:\n",
        "            features = x\n",
        "        else:\n",
        "            features = np.c_[x, features]\n",
        "    # print(features)\n",
        "\n",
        "    y = []\n",
        "    for value in features:\n",
        "        summation = 0\n",
        "        for w in range(0, len(value)):\n",
        "            # print(value[w])\n",
        "            summation = summation + (1 / (w + 2)) * value[w]\n",
        "            # print(summation)\n",
        "        y.append(summation)\n",
        "    y = y + error - 1\n",
        "    cols = []\n",
        "    for i in range(no_of_attributes):\n",
        "        cols.append(i)\n",
        "    new_data = pd.DataFrame(features, columns=cols)\n",
        "    new_data[\"y\"] = y\n",
        "    print(new_data.head())\n",
        "    # new_data.to_csv(\"Linear_Regression_Dataset.csv\")\n",
        "\n",
        "Data_Generation_For_Linear_Regression(100,2)"
      ],
      "execution_count": 12,
      "outputs": [
        {
          "output_type": "stream",
          "text": [
            "          0         1         y\n",
            "0  0.443215  0.031811 -1.062812\n",
            "1  0.686225  0.859079 -0.148063\n",
            "2 -0.961145 -1.579859 -2.105548\n",
            "3  0.135451  1.794729 -0.268855\n",
            "4  2.606634 -1.554362 -0.075017\n"
          ],
          "name": "stdout"
        }
      ]
    },
    {
      "cell_type": "code",
      "metadata": {
        "id": "Thv8GfH8Jodq",
        "colab_type": "code",
        "colab": {
          "base_uri": "https://localhost:8080/",
          "height": 126
        },
        "outputId": "d65cd73f-b954-419e-be41-774e1883b227"
      },
      "source": [
        "# Random Generation for Logistic Regression\n",
        "def Data_Generation_For_Logistic_Regression(no_of_rows, no_of_attributes):\n",
        "    features = []\n",
        "    for v in range(no_of_attributes):\n",
        "        x = norm.rvs(0, 1, no_of_rows)\n",
        "        x = x[:, np.newaxis]\n",
        "        if v == 0:\n",
        "            features = x\n",
        "        else:\n",
        "            features = np.c_[x, features]\n",
        "    # print(features)\n",
        "    y = []\n",
        "    for value in features:\n",
        "        summation = 1\n",
        "        z = 0\n",
        "        for w in range(0, len(value)):\n",
        "            # print(value[w])\n",
        "            summation = summation + ((w + 2) * value[w])\n",
        "            z = 1 / (1 + np.exp(-summation))\n",
        "        y.append(1 if z >= 0.5 else 0)\n",
        "\n",
        "    cols = []\n",
        "    for i in range(no_of_attributes):\n",
        "        cols.append(i)\n",
        "    new_data = pd.DataFrame(features, columns=cols)\n",
        "    new_data[\"y\"] = y\n",
        "    print(new_data.head())\n",
        "    # new_data.to_csv(\"Logistic_Regression_Dataset.csv\")\n",
        "\n",
        "Data_Generation_For_Logistic_Regression(1000, 2)\n",
        "\n",
        "\n"
      ],
      "execution_count": 14,
      "outputs": [
        {
          "output_type": "stream",
          "text": [
            "          0         1  y\n",
            "0  2.146157 -0.503659  1\n",
            "1 -1.022731 -0.056029  0\n",
            "2  1.074173  1.395417  1\n",
            "3 -1.360107 -0.690600  0\n",
            "4  0.109302  1.064815  1\n"
          ],
          "name": "stdout"
        }
      ]
    },
    {
      "cell_type": "code",
      "metadata": {
        "id": "VO7ETtJuKnn3",
        "colab_type": "code",
        "colab": {
          "base_uri": "https://localhost:8080/",
          "height": 126
        },
        "outputId": "caabf2a0-64bc-47da-8f9a-898cdcdb88e8"
      },
      "source": [
        "# Random Generation for K-Means Clustering\n",
        "def Data_Generation_For_K_Means(no_of_values, features):\n",
        "    x, y = datasets.make_blobs(no_of_values, features, random_state=0, centers=3)\n",
        "    cols = []\n",
        "    for i in range(features):\n",
        "        cols.append(i)\n",
        "    new_data = pd.DataFrame(x, columns=cols)\n",
        "    new_data[\"y\"] = y\n",
        "    print(new_data.head())\n",
        "    # new_data.to_csv(\"Data_Set_K_Means.csv\")\n",
        "\n",
        "\n",
        "Data_Generation_For_K_Means(1000, 2)\n"
      ],
      "execution_count": 16,
      "outputs": [
        {
          "output_type": "stream",
          "text": [
            "          0         1  y\n",
            "0 -0.807236  2.669463  2\n",
            "1  1.926358  4.152430  0\n",
            "2 -1.500166  3.101333  2\n",
            "3 -1.109050  2.877864  2\n",
            "4 -2.531227  1.919691  2\n"
          ],
          "name": "stdout"
        }
      ]
    },
    {
      "cell_type": "markdown",
      "metadata": {
        "id": "wRxqk2OYLgWE",
        "colab_type": "text"
      },
      "source": [
        "The Random generated data was stored in different csv file given in the code which was used in later stages"
      ]
    }
  ]
}