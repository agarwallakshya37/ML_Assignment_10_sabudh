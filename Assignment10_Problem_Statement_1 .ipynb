{
  "nbformat": 4,
  "nbformat_minor": 0,
  "metadata": {
    "colab": {
      "name": "Assignment10_Problem_Statement_1.ipynb",
      "provenance": []
    },
    "kernelspec": {
      "name": "python3",
      "display_name": "Python 3"
    }
  },
  "cells": [
    {
      "cell_type": "markdown",
      "metadata": {
        "id": "k5Np11Wx8pn3",
        "colab_type": "text"
      },
      "source": [
        "**Problem Statement 1 :**\n",
        "\n",
        "Say you are standing at the bottom of a staircase with  a dice. With each throw of the dice you either move down one step (if you get a 1 or 2 on the dice) or move up one step (if you get a 3, 4 or 5 on the dice). If you throw a 6 on the dice, you throw the dice again and move up the staircase by the number you get on that second throw. Note if you are on the base of the staircase you cannot move down! What is the probability that you will reach more than 60 steps after 250 throws of the dice. Change the code so that you have a function that takes as parameter, the number of throws.\n",
        "\n",
        "Add a new parameter to the function that takes a probability distribution over all outcomes from a dice throw. For example (0.2,0.3,0.2,0.1,0.1,0.1) would suggest that the probability of getting a 1 is 0.2, 2 is 0.3 etc. How does that change the probability of reaching a step higher than 60?"
      ]
    },
    {
      "cell_type": "code",
      "metadata": {
        "id": "nIIfV-RIOj8D",
        "colab_type": "code",
        "colab": {
          "base_uri": "https://localhost:8080/",
          "height": 54
        },
        "outputId": "c8d027a0-6ff9-4eb1-c633-d7d0287dd68f"
      },
      "source": [
        "import random\n",
        "import numpy as np\n",
        "import pandas as pd\n",
        "from scipy.stats import norm\n",
        "import matplotlib.pyplot as plt\n",
        "from sklearn import datasets\n",
        "def Dice_Stair_1(total_runs):\n",
        "    result = []\n",
        "    for i in range(total_runs):\n",
        "        step = 0\n",
        "        for j in range(250):\n",
        "            dice = np.random.randint(1, 6)\n",
        "            # print(dice)\n",
        "            if step == 0:\n",
        "                if dice == 1 or dice == 2:\n",
        "                    continue\n",
        "            if dice == 1 or dice == 2:\n",
        "                step -= 1\n",
        "            elif dice == 3 or dice == 5 or dice == 4:\n",
        "                step += 1\n",
        "\n",
        "            while dice == 6:\n",
        "                dice = random.randint(1, 6)\n",
        "                # print(dice)\n",
        "                if step == 0:\n",
        "                    if dice == 1 or dice == 2:\n",
        "                        break\n",
        "                if dice == 1 or dice == 2:\n",
        "                    step -= 1\n",
        "                elif dice == 3 or dice == 5 or dice == 4:\n",
        "                    step += 1\n",
        "                # print(\"6 \", end=', ')\n",
        "            # print(\"Step = \", step, \"Dice = \", dice)\n",
        "\n",
        "        if step > 60:\n",
        "            result.append(1)\n",
        "        else:\n",
        "            result.append(0)\n",
        "    print(\"We Moved above Sixty Step = \",\n",
        "          result.count(1), \" AND \", \"We are Less Than Sixty Steps = \", result.count(0))\n",
        "    print(\"Probability ({}) Trials) = \".format(total_runs), result.count(1) / 1000)\n",
        "\n",
        "Dice_Stair_1(1000)"
      ],
      "execution_count": 2,
      "outputs": [
        {
          "output_type": "stream",
          "text": [
            "We Moved above Sixty Step =  275  AND  We are Less Than Sixty Steps =  725\n",
            "Probability (1000) Trials) =  0.275\n"
          ],
          "name": "stdout"
        }
      ]
    },
    {
      "cell_type": "code",
      "metadata": {
        "id": "QbjwWcgg_OiL",
        "colab_type": "code",
        "colab": {
          "base_uri": "https://localhost:8080/",
          "height": 54
        },
        "outputId": "f35672ed-b7f4-411c-bf45-1312c28c3b85"
      },
      "source": [
        "# Problem - 1 (Part - 2)\n",
        "# With Custom Number Of Throws\n",
        "def Dice_Stair_2(throws, total_runs):\n",
        "    Sixty_Plus = []\n",
        "    for _ in range(total_runs):\n",
        "        step = 0\n",
        "        for j in range(throws):\n",
        "            dice = np.random.randint(1, 6)\n",
        "            # print(dice)\n",
        "            if step == 0:\n",
        "                if dice == 1 or dice == 2:\n",
        "                    continue\n",
        "            if dice == 1 or dice == 2:\n",
        "                step -= 1\n",
        "            elif dice == 3 or dice == 5 or dice == 4:\n",
        "                step += 1\n",
        "\n",
        "            while dice == 6:\n",
        "                dice = random.randint(1, 6)\n",
        "                # print(dice)\n",
        "                if step == 0:\n",
        "                    if dice == 1 or dice == 2:\n",
        "                        break\n",
        "                if dice == 1 or dice == 2:\n",
        "                    step -= 1\n",
        "                elif dice == 3 or dice == 5 or dice == 4:\n",
        "                    step += 1\n",
        "                # print(\"6 \", end=', ')\n",
        "            # print(\"Step = \", step, \"Dice = \", dice)\n",
        "        if step > 60:\n",
        "            Sixty_Plus.append(1)\n",
        "        else:\n",
        "            Sixty_Plus.append(0)\n",
        "    print(\"We Moved above Sixty Step = \", Sixty_Plus.count(1), \" AND \",\n",
        "          \"We are Less Than Sixty Steps = \", Sixty_Plus.count(0))\n",
        "    print(\"Probability ({}) Trials) = \".format(total_runs), Sixty_Plus.count(1) / 1000)\n",
        "\n",
        "\n",
        "Dice_Stair_2(250, 1000)\n"
      ],
      "execution_count": 3,
      "outputs": [
        {
          "output_type": "stream",
          "text": [
            "We Moved above Sixty Step =  284  AND  We are Less Than Sixty Steps =  716\n",
            "Probability (1000) Trials) =  0.284\n"
          ],
          "name": "stdout"
        }
      ]
    },
    {
      "cell_type": "code",
      "metadata": {
        "id": "1i-DVEC3Bl2G",
        "colab_type": "code",
        "colab": {
          "base_uri": "https://localhost:8080/",
          "height": 54
        },
        "outputId": "bbf2581b-4821-4a7a-a5ef-4d142a065ec6"
      },
      "source": [
        "# Problem - 1 (Part - 3)\n",
        "# With Probability Distribution\n",
        "def Dice_Stair_3(throws, weights, total_runs):\n",
        "    Sixty_Plus = []\n",
        "    for i in range(total_runs):\n",
        "        dice_v = []\n",
        "        step = 0\n",
        "        for j in range(throws):\n",
        "            dice = random.choices(range(1, 7), weights=weights)\n",
        "            dice = dice[0]\n",
        "            # print(dice)\n",
        "            if step == 0:\n",
        "                if dice == 1 or dice == 2:\n",
        "                    dice_v.append(dice)\n",
        "                    continue\n",
        "            if dice == 1 or dice == 2:\n",
        "                step -= 1\n",
        "            elif dice == 3 or dice == 5 or dice == 4:\n",
        "                step += 1\n",
        "\n",
        "            while dice == 6:\n",
        "                dice = random.randint(1, 6)\n",
        "                # print(dice)\n",
        "                if step == 0:\n",
        "                    if dice == 1 or dice == 2:\n",
        "                        break\n",
        "                if dice == 1 or dice == 2:\n",
        "                    step -= 1\n",
        "                elif dice == 3 or dice == 5 or dice == 4:\n",
        "                    step += 1\n",
        "        if step > 60:\n",
        "            Sixty_Plus.append(1)\n",
        "        else:\n",
        "            Sixty_Plus.append(0)\n",
        "\n",
        "    print(\"We Moved above Sixty Step = \", Sixty_Plus.count(1), \" AND \",\n",
        "          \"We are Less Than Sixty Steps = \", Sixty_Plus.count(0))\n",
        "    print(\"Probability ({}) Trials) = \".format(total_runs), Sixty_Plus.count(1) / 1000)\n",
        "\n",
        "\n",
        "probabilities = [0.2, 0.3, 0.2, 0.1, 0.1, 0.1]\n",
        "\n",
        "Dice_Stair_3(250, probabilities, 1000)\n"
      ],
      "execution_count": 4,
      "outputs": [
        {
          "output_type": "stream",
          "text": [
            "We Moved above Sixty Step =  0  AND  We are Less Than Sixty Steps =  1000\n",
            "Probability (1000) Trials) =  0.0\n"
          ],
          "name": "stdout"
        }
      ]
    },
    {
      "cell_type": "markdown",
      "metadata": {
        "id": "ifNvudXQERYw",
        "colab_type": "text"
      },
      "source": [
        "Inferences:-\n",
        "\n",
        "\n",
        "*   Probability with custom throws is almost similar to random throws after applying constant no. of runs 1000.\n",
        "\n",
        "*  After applying weights to the dice, the probability is reducing to 0"
      ]
    }
  ]
}